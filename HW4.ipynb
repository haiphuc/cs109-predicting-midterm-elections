{
 "cells": [
  {
   "cell_type": "markdown",
   "metadata": {},
   "source": [
    "# Homework 4: Can we predict the Midterm Elections?\n",
    "\n",
    "---\n"
   ]
  },
  {
   "cell_type": "markdown",
   "metadata": {},
   "source": [
    "## Introduction\n",
    "\n",
    "**Add Introduction**\n",
    "\n",
    "I will use the [HuffPost Pollster API](http://elections.huffingtonpost.com/pollster/api/v2) to extract the polls for the current 2014 Senate Midterm Elections and provide a final prediction of the result of each state.\n",
    "\n",
    "#### Data\n",
    "\n",
    "We will use the polls from the [2014 Senate Midterm Elections](http://elections.huffingtonpost.com/pollster) from the [HuffPost Pollster API](http://elections.huffingtonpost.com/pollster/api/v2). \n",
    "\n",
    "---"
   ]
  },
  {
   "cell_type": "markdown",
   "metadata": {},
   "source": [
    "## Problem 1: Data Wrangling\n",
    "\n",
    "We will read in the polls from the [2014 Senate Midterm Elections](http://elections.huffingtonpost.com/pollster) from the [HuffPost Pollster API](http://elections.huffingtonpost.com/pollster/api/v2) and create a dictionary of DataFrames as well a master table information for each race."
   ]
  },
  {
   "cell_type": "markdown",
   "metadata": {},
   "source": [
    "#### Problem 1(a)\n",
    "\n",
    "Read in [this JSON object](http://elections.huffingtonpost.com/pollster/api/charts/?topic=2014-senate) containing the polls for the 2014 Senate Elections using the HuffPost API. Call this JSON object `info`.  This JSON object is imported as a list in Python where each element contains the information for one race.  Use the function `type` to confirm the that `info` is a list. "
   ]
  },
  {
   "cell_type": "code",
   "execution_count": 1,
   "metadata": {},
   "outputs": [],
   "source": [
    "import requests\n",
    "import pandas as pd\n",
    "import numpy as np\n",
    "import seaborn as sns\n",
    "import matplotlib.pyplot as plt\n",
    "from scipy import stats\n",
    "from bs4 import BeautifulSoup\n",
    "from collections import defaultdict"
   ]
  },
  {
   "cell_type": "code",
   "execution_count": 2,
   "metadata": {},
   "outputs": [],
   "source": [
    "info = requests.get('http://elections.huffingtonpost.com/pollster/api/v2/charts/',\n",
    "                    params = {'tags': '2014-senate'}).json()"
   ]
  },
  {
   "cell_type": "markdown",
   "metadata": {},
   "source": [
    "#### Problem 1(b)\n",
    "\n",
    "For each element of the list in `info` extract the state. We should have one poll per state, but we do not. Why?\n",
    "\n",
    "**Hint**: Use the internet to find out information on the races in each state that has more than one entry. Eliminate entries of the list that represent races that are not happening."
   ]
  },
  {
   "cell_type": "code",
   "execution_count": null,
   "metadata": {},
   "outputs": [],
   "source": [
    "new_info = defaultdict(list)\n",
    "for i in info['items']:\n",
    "    state = i['question']['slug'].split('-')[1]\n",
    "    candidates = set([c['label'] for c in i['question']['responses']])\n",
    "    candidates.discard('Undecided')\n",
    "    candidates.discard('Other')\n",
    "    if (state not in new_info\n",
    "        or not set([c['label'] for s in new_info[state] for c in s['question']['responses']]) & candidates):\n",
    "        # Append a race if its state is not in our dictionary\n",
    "        # or if this race is a special election ie. no overlap between candidate lists\n",
    "        new_info[state].append(i)\n",
    "    else:\n",
    "        for idx, v in enumerate(new_info[state]):\n",
    "            if (set([c['label'] for c in v['question']['responses']]) & candidates\n",
    "                and i['question']['n_polls'] > v['question']['n_polls']):\n",
    "                # Replace a current race with one that has larger n_polls\n",
    "                # if there's an overlap between candidate lists\n",
    "                new_info[state][idx] = i\n",
    "unpacked_new_info = [rc for v in new_info.values() for rc in v]"
   ]
  },
  {
   "cell_type": "markdown",
   "metadata": {},
   "source": [
    "** My answer here: ** There are polls for races that have never happened, and there are special elections at some states."
   ]
  },
  {
   "cell_type": "markdown",
   "metadata": {},
   "source": [
    "#### Problem 1(c)\n",
    "\n",
    "Create a dictionary of pandas DataFrames called `polls` keyed by the name of the election (a string). Each value in the dictionary should contain the polls for one of the races."
   ]
  },
  {
   "cell_type": "code",
   "execution_count": null,
   "metadata": {},
   "outputs": [],
   "source": [
    "polls = {}\n",
    "for rc in unpacked_new_info:\n",
    "    polls[rc['slug']] = pd.read_csv('http://elections.huffingtonpost.com/pollster/api/v2/questions/'\n",
    "                                    + rc['question']['slug'] + '/poll-responses-clean.tsv', sep = '\\t')"
   ]
  },
  {
   "cell_type": "markdown",
   "metadata": {},
   "source": [
    "#### Problem 1(d)\n",
    "\n",
    "Now create a master table information containing information about each race. Create a pandas DataFrame called `candidates` with rows containing information about each race. The `candidates` DataFrame should have the following columns: \n",
    "\n",
    "1. `State` = the state where the race is being held\n",
    "2. `R` = name of republican candidate\n",
    "3. `D` = name of non-republican candidate (Democrate or Independent) \n",
    "4. `incumbent` = R, D or NA\n",
    "\n",
    "**Hint**: We will need a considerable amount of data wrangling for this."
   ]
  },
  {
   "cell_type": "code",
   "execution_count": null,
   "metadata": {},
   "outputs": [],
   "source": [
    "candidates = defaultdict(list)\n",
    "for rc in (rc['question'] for v in new_info.values() for rc in v):\n",
    "    candidates['State'].append(rc['slug'].split('-')[1])\n",
    "    for rspns in rc['responses']:\n",
    "        if rspns['party'] == 'Republican':\n",
    "            candidates['R'].append(rspns['label'])\n",
    "            if rspns['incumbent']:\n",
    "                candidates['incumbent'].append('R')\n",
    "        if rspns['party'] == 'Democrat':\n",
    "            candidates['D'].append(rspns['label'])\n",
    "            if rspns['incumbent']:\n",
    "                candidates['incumbent'].append('D')\n",
    "    if len(candidates['incumbent']) < len(candidates['State']):\n",
    "        # Set incumbent = 'NA' if there are no incumbents in the race\n",
    "        candidates['incumbent'].append('NA')\n",
    "candidates = pd.DataFrame(candidates)\n",
    "candidates.head()"
   ]
  },
  {
   "cell_type": "markdown",
   "metadata": {},
   "source": [
    "## Problem 2: Confidence Intervals\n",
    "\n",
    "Compute a 99% confidence interval for each state. "
   ]
  },
  {
   "cell_type": "markdown",
   "metadata": {},
   "source": [
    "#### Problem 2(a)\n",
    "\n",
    "Assume we have $M$ polls with sample sizes $n_1, \\dots, n_M$. If the polls are independent, what is the average of the variances of each poll if the true proportion is $p$?"
   ]
  },
  {
   "cell_type": "markdown",
   "metadata": {},
   "source": [
    "** My answer here: ** $$ \\frac{p(1-p)(1/n_1 + \\dots +1/n_M)}{M} $$"
   ]
  },
  {
   "cell_type": "markdown",
   "metadata": {},
   "source": [
    "#### Problem 2(b)\n",
    "\n",
    "Compute the square root of these values in Problem 2(a) for the republican candidates in each race. Then, compute the standard deviations of the observed poll results for each race. "
   ]
  },
  {
   "cell_type": "code",
   "execution_count": null,
   "metadata": {},
   "outputs": [],
   "source": [
    "average_std = {}\n",
    "poll_std = {}\n",
    "results = BeautifulSoup(requests.get('http://elections.huffingtonpost.com/2014/results').text, 'lxml')\n",
    "for rc in unpacked_new_info:\n",
    "    candidates = set([c['label'].strip() for c in rc['question']['responses']])\n",
    "    p = 0\n",
    "    slug = rc['slug']\n",
    "    for r in results.find_all('div', attrs = {'class': 'race closed',\n",
    "                                              'data-state': rc['question']['slug'].split('-')[1]}):\n",
    "        if set([c.contents[0].strip() for c in r.find_all('span', class_ = 'nowrap')]) & candidates:\n",
    "            # Look for the table that contains the result for our candidates\n",
    "            for prf in r.find_all('tr'):\n",
    "                if prf.find('td', class_ = 'party').span['class'][0] == 'gop':\n",
    "                    # Extract the result if the Party is Republican\n",
    "                    p = float(prf.find('td', class_ = 'pct').text.strip('%'))/100\n",
    "                    break\n",
    "            break\n",
    "    # Calculate the theoretical standard deviation of the winning proportion\n",
    "    average_std[rc['slug']] = ((p * (1 - p)) ** (1 / 2) * (1 / polls[rc['slug']].observations ** (1 / 2)).sum()\n",
    "                               / len(polls[rc['slug']]))\n",
    "    for r in rc['question']['responses']:\n",
    "        if r['party'] == 'Republican':\n",
    "            # Calculate the sample standard deviation of the winning proportion\n",
    "            poll_std[slug] = (polls[slug][r['label']] / 100.).std()\n",
    "            break\n",
    "average_std"
   ]
  },
  {
   "cell_type": "markdown",
   "metadata": {},
   "source": [
    "#### Problem 2(c) \n",
    "\n",
    "Plot observed versus theoretical (average of the theoretical SDs) with the area of the point proportional to number of polls. How do these compare?"
   ]
  },
  {
   "cell_type": "code",
   "execution_count": null,
   "metadata": {},
   "outputs": [],
   "source": [
    "races = sorted(list(average_std))\n",
    "plt.scatter([average_std[rc] for rc in races], [poll_std[rc] for rc in races], s = [len(polls[rc]) for rc in races])\n",
    "plt.xlabel('Theoretical Std')\n",
    "plt.ylabel('Actual Std')\n",
    "plt.show()"
   ]
  },
  {
   "cell_type": "markdown",
   "metadata": {},
   "source": [
    "** My answer here: ** The theoretical and actual std do not match and the actual std tends to be higher. This might be due to the non-stationary data ie. the voting opinion had changed over time."
   ]
  },
  {
   "cell_type": "markdown",
   "metadata": {},
   "source": [
    "#### Problem 2(d)\n",
    "\n",
    "Repeat Problem 2(c) but include only the most recent polls from the last two months. Do they match better or worse or the same? Can we just trust the theoretical values?"
   ]
  },
  {
   "cell_type": "code",
   "execution_count": null,
   "metadata": {},
   "outputs": [],
   "source": [
    "recent_poll_std = {}\n",
    "for rc in unpacked_new_info:\n",
    "    slug = rc['slug']\n",
    "    for r in rc['question']['responses']:\n",
    "        if r['party'] == 'Republican':\n",
    "            # Calculate the std for polls from the last two months if the Party is Republican\n",
    "            recent_poll_std[slug] = (polls[slug][pd.to_datetime(polls[slug].end_date)\n",
    "                                                 > pd.datetime(2014, 9, 3)][r['label']] / 100).std()\n",
    "            break\n",
    "\n",
    "plt.scatter([average_std[rc] for rc in races], [recent_poll_std[rc] for rc in races],\n",
    "            # Increase the dot size of those races with a larger number of polls\n",
    "            s = [len(polls[rc][pd.to_datetime(polls[rc].end_date) > pd.datetime(2014, 9, 3)]) for rc in races])\n",
    "plt.xlabel('Theoretical Std')\n",
    "plt.ylabel('Actual Std')\n",
    "plt.show()"
   ]
  },
  {
   "cell_type": "markdown",
   "metadata": {},
   "source": [
    "** My answer here: **They match better but not significantly. It seems that the theoretical std broke down due to the difference in the true proportion p between pollsters."
   ]
  },
  {
   "cell_type": "markdown",
   "metadata": {},
   "source": [
    "#### Problem 2(e)\n",
    "\n",
    "Create a scatter plot with each point representing one state. Is there one or more races that are outlier in that it they have much larger variabilities than expected ? Explore the original poll data and explain why the discrepancy?"
   ]
  },
  {
   "cell_type": "code",
   "execution_count": null,
   "metadata": {},
   "outputs": [],
   "source": [
    "race_states = {rc['slug']: rc['question']['slug'].split('-')[1] for rc in unpacked_new_info}\n",
    "plt.scatter([average_std[rc] for rc in races], [poll_std[rc] for rc in races], s = 0)\n",
    "plt.xlabel('Theoretical Std')\n",
    "plt.ylabel('Actual Std')\n",
    "for idx, v in enumerate([average_std[rc] for rc in races]):\n",
    "    plt.text(v, [poll_std[rc] for rc in races][idx], [race_states[rc] for rc in races][idx])\n",
    "plt.show()"
   ]
  },
  {
   "cell_type": "markdown",
   "metadata": {},
   "source": [
    "** My answer here: ** There are states like Texas that has much larger variabilities than expected."
   ]
  },
  {
   "cell_type": "markdown",
   "metadata": {},
   "source": [
    "#### Problem 2(f)\n",
    "\n",
    "Construct confidence intervals for the difference in each race. Use either theoretical or data driven estimates of the standard error depending on our answer to this question. Use the results in Problem 2(e), to justify our choice.\n"
   ]
  },
  {
   "cell_type": "code",
   "execution_count": null,
   "metadata": {},
   "outputs": [],
   "source": [
    "confidence = defaultdict(list)\n",
    "for rc in unpacked_new_info:\n",
    "    slug = rc['slug']\n",
    "    confidence['race'].append(slug)\n",
    "    for r in rc['question']['responses']:\n",
    "        if r['party'] == 'Republican':\n",
    "            gop = r['label']\n",
    "        elif r['party'] == 'Democrat':\n",
    "            dem = r['label']\n",
    "    confidence['diff_mean'].append((polls[slug][gop] - polls[slug][dem]).mean() / 100)\n",
    "    confidence['diff_std'].append(((polls[slug][gop] - polls[slug][dem]) / 100).std())\n",
    "    confidence['n_polls'].append(len(polls[slug]))\n",
    "confidence = pd.DataFrame(confidence)\n",
    "confidence['ste'] = confidence.diff_std / confidence.n_polls**(1 / 2)\n",
    "confidence['lower_bound'] = (confidence.diff_mean + confidence.ste * stats.t.interval(.95, confidence.n_polls - 1)[0])\n",
    "confidence['upper_bound'] = (confidence.diff_mean + confidence.ste * stats.t.interval(.95, confidence.n_polls - 1)[1])\n",
    "confidence.sort_values('diff_mean', inplace = True)\n",
    "confidence.reset_index(inplace = True)\n",
    "\n",
    "plt.figure(figsize = (17, 8))\n",
    "plt.xticks(confidence.index, confidence.race, rotation = 90)\n",
    "plt.xlim(-1, confidence.shape[0])\n",
    "plt.errorbar(confidence.index, confidence.diff_mean, fmt = 'o', ms = 4,\n",
    "             yerr = confidence.ste * stats.t.interval(.95, confidence.n_polls - 1)[1])\n",
    "plt.axhline(0, linewidth = .5, color = 'black')\n",
    "plt.ylabel('Winning Margin of GOP')\n",
    "plt.show()"
   ]
  },
  {
   "cell_type": "markdown",
   "metadata": {},
   "source": [
    "# Problem 3: Prediction and Posterior Probabilities\n",
    "\n",
    "Perform a Bayesian analysis to predict the probability of Republicans winning in each state then provide a posterior distribution of the number of republicans in the senate."
   ]
  },
  {
   "cell_type": "markdown",
   "metadata": {},
   "source": [
    "#### Problem 3(a)\n",
    "\n",
    "First, we define a Bayesian model for each race. The prior for the difference $\\theta$ between republicans and democrats will be $N(\\mu,\\tau^2)$. Say before seeing poll data we have no idea who is going to win, what should $\\mu$ be? How about $\\tau$, should it be large or small? "
   ]
  },
  {
   "cell_type": "markdown",
   "metadata": {},
   "source": [
    "** My answer here: **$\\mu$=0. $\\tau$ should be small as the empirical variance of $\\theta$ is not large and we also not want to set too extreme a prior."
   ]
  },
  {
   "cell_type": "markdown",
   "metadata": {},
   "source": [
    "#### Problem 3(b)\n",
    "\n",
    "What is the distribution of $d$ conditioned on $\\theta$. What is the posterior distribution of $\\theta | d$? \n",
    "\n",
    "**Hint**: Use normal approximation. "
   ]
  },
  {
   "cell_type": "markdown",
   "metadata": {},
   "source": [
    "**My answer here:**\n",
    "\n",
    "$d \\mid \\theta \\sim N(\\theta, \\sigma^2/M)$.\n",
    "\n",
    "$\\theta \\mid d \\sim N\\left(B\\mu + (1-B)d, (1-B)\\sigma^2/M\\right)$, where $B = \\frac{1/\\tau^2}{M/\\sigma^2 + 1/\\tau^2}$."
   ]
  },
  {
   "cell_type": "markdown",
   "metadata": {},
   "source": [
    "#### Problem 3(c)\n",
    "\n",
    "The prior represents what we think before hand. We do not know who is expected to win, so we assume $\\mu=0$. For this problem estimate $\\tau$ using the observed differences across states (Hint: $\\tau$ represents the standard deviation of a typical difference). Compute the posterior mean for each state and plot it against original average. Is there much change? Why or why not? "
   ]
  },
  {
   "cell_type": "code",
   "execution_count": null,
   "metadata": {},
   "outputs": [],
   "source": [
    "diffs = []\n",
    "for rc in unpacked_new_info:\n",
    "    slug = rc['slug']\n",
    "    for r in rc['question']['responses']:\n",
    "        if r['party'] == 'Republican':\n",
    "            gop = r['label']\n",
    "        elif r['party'] == 'Democrat':\n",
    "            dem = r['label']\n",
    "    diffs += list((polls[slug][gop] - polls[slug][dem]) / 100)\n",
    "tau0 = np.nanstd(diffs)\n",
    "# Calculate the posterior mean\n",
    "confidence['post_diff_mean'] = (confidence.diff_mean * confidence.n_polls / confidence.diff_std ** 2\n",
    "                                / (1 / tau0 ** 2 + confidence.n_polls / confidence.diff_std ** 2))\n",
    "# Calculate the posterior std\n",
    "confidence['post_diff_std'] = (1 / tau0 ** 2 + confidence.n_polls / confidence.diff_std ** 2) ** (-1 / 2)\n",
    "sns.regplot(confidence.diff_mean, confidence.post_diff_mean)\n",
    "plt.show()"
   ]
  },
  {
   "cell_type": "markdown",
   "metadata": {},
   "source": [
    "**My answer here:** There is not much change. This means either we chose a reasonable prior distribution or n_polls for some states are too small."
   ]
  },
  {
   "cell_type": "markdown",
   "metadata": {},
   "source": [
    "#### Problem 3(d)\n",
    "\n",
    "For each state, report a probabilty of Republicans winning. How does our answer here compare to the other aggregators?"
   ]
  },
  {
   "cell_type": "code",
   "execution_count": null,
   "metadata": {},
   "outputs": [],
   "source": [
    "confidence['gop_win_proba'] = stats.norm.sf(0, confidence.post_diff_mean, confidence.post_diff_std)\n",
    "confidence"
   ]
  },
  {
   "cell_type": "markdown",
   "metadata": {},
   "source": [
    "**My answer here:** My answer is quite in line with other aggregators."
   ]
  },
  {
   "cell_type": "markdown",
   "metadata": {},
   "source": [
    "#### Problem 3(e)\n",
    "\n",
    "Use the posterior distributions in a Monte Carlo simulation to generate election results. In each simulation compute the total number of seats the Republican control. Show a histogram of these results."
   ]
  },
  {
   "cell_type": "code",
   "execution_count": null,
   "metadata": {},
   "outputs": [],
   "source": [
    "gop_seats = []\n",
    "for i in range(100000):\n",
    "    gop_seats.append(30 + stats.bernoulli.rvs(confidence.gop_win_proba, random_state = i).sum())\n",
    "sns.distplot(gop_seats, kde = False)\n",
    "plt.xlabel('Number of Republican Seats')\n",
    "plt.ylabel('Frequency')\n",
    "plt.title('Monte Carlo simulation of Number of Seats in Republican Control')\n",
    "plt.show()"
   ]
  },
  {
   "cell_type": "markdown",
   "metadata": {},
   "source": [
    "---"
   ]
  }
 ],
 "metadata": {
  "kernelspec": {
   "display_name": "Python 3",
   "language": "python",
   "name": "python3"
  },
  "language_info": {
   "codemirror_mode": {
    "name": "ipython",
    "version": 3
   },
   "file_extension": ".py",
   "mimetype": "text/x-python",
   "name": "python",
   "nbconvert_exporter": "python",
   "pygments_lexer": "ipython3",
   "version": "3.5.3"
  }
 },
 "nbformat": 4,
 "nbformat_minor": 1
}
